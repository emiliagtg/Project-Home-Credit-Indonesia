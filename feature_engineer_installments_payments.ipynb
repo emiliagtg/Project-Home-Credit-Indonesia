{
 "cells": [
  {
   "cell_type": "code",
   "execution_count": 1,
   "id": "4823f38d",
   "metadata": {},
   "outputs": [
    {
     "name": "stdout",
     "output_type": "stream",
     "text": [
      "Ukuran data installments: (13605401, 8)\n",
      "   SK_ID_CURR  NUM_INSTALMENT_NUMBER  DAYS_INSTALMENT  AMT_INSTALMENT  \\\n",
      "0      161674                      6          -1180.0        6948.360   \n",
      "1      151639                     34          -2156.0        1716.525   \n",
      "2      193053                      1            -63.0       25425.000   \n",
      "3      199697                      3          -2418.0       24350.130   \n",
      "4      167756                      2          -1383.0        2165.040   \n",
      "\n",
      "   AMT_PAYMENT  \n",
      "0     6948.360  \n",
      "1     1716.525  \n",
      "2    25425.000  \n",
      "3    24350.130  \n",
      "4     2160.585  \n"
     ]
    }
   ],
   "source": [
    "import pandas as pd\n",
    "\n",
    "# Load application_train\n",
    "df = pd.read_csv('application_train.csv')\n",
    "\n",
    "# Load installments_payments\n",
    "installments = pd.read_csv('installments_payments.csv')\n",
    "\n",
    "print(\"Ukuran data installments:\", installments.shape)\n",
    "print(installments[['SK_ID_CURR', 'NUM_INSTALMENT_NUMBER', 'DAYS_INSTALMENT', 'AMT_INSTALMENT', 'AMT_PAYMENT']].head())"
   ]
  },
  {
   "cell_type": "code",
   "execution_count": 3,
   "id": "a704ab2e",
   "metadata": {},
   "outputs": [],
   "source": [
    "# Hitung keterlambatan\n",
    "installments['PAYMENT_DELAY'] = installments['DAYS_ENTRY_PAYMENT'] - installments['DAYS_INSTALMENT']\n",
    "\n",
    "# Selisih pembayaran (positif jika underpayment)\n",
    "installments['PAYMENT_DIFF'] = installments['AMT_INSTALMENT'] - installments['AMT_PAYMENT']"
   ]
  },
  {
   "cell_type": "code",
   "execution_count": 4,
   "id": "adebd49f",
   "metadata": {},
   "outputs": [],
   "source": [
    "inst_agg = installments.groupby('SK_ID_CURR').agg({\n",
    "    'PAYMENT_DELAY': ['mean', 'max'],\n",
    "    'PAYMENT_DIFF': ['mean', 'sum'],\n",
    "    'AMT_PAYMENT': ['mean', 'sum'],\n",
    "    'AMT_INSTALMENT': ['mean', 'sum']\n",
    "})\n",
    "\n",
    "# Rename kolom multi-index\n",
    "inst_agg.columns = ['INST_' + '_'.join(col).upper() for col in inst_agg.columns]\n",
    "inst_agg = inst_agg.reset_index()"
   ]
  },
  {
   "cell_type": "code",
   "execution_count": 5,
   "id": "d8d0f5f1",
   "metadata": {},
   "outputs": [],
   "source": [
    "df = df.merge(inst_agg, on='SK_ID_CURR', how='left')"
   ]
  },
  {
   "cell_type": "code",
   "execution_count": 6,
   "id": "dd19e984",
   "metadata": {},
   "outputs": [
    {
     "name": "stdout",
     "output_type": "stream",
     "text": [
      "Fitur dari installments_payments.csv yang paling berkorelasi dengan TARGET:\n",
      "TARGET                         1.000000\n",
      "DAYS_BIRTH                     0.078239\n",
      "REGION_RATING_CLIENT_W_CITY    0.060893\n",
      "REGION_RATING_CLIENT           0.058899\n",
      "DAYS_LAST_PHONE_CHANGE         0.055218\n",
      "DAYS_ID_PUBLISH                0.051457\n",
      "REG_CITY_NOT_WORK_CITY         0.050994\n",
      "FLAG_EMP_PHONE                 0.045982\n",
      "REG_CITY_NOT_LIVE_CITY         0.044395\n",
      "FLAG_DOCUMENT_3                0.044346\n",
      "Name: TARGET, dtype: float64\n"
     ]
    }
   ],
   "source": [
    "correlation = df.corr(numeric_only=True)['TARGET'].sort_values(ascending=False)\n",
    "print(\"Fitur dari installments_payments.csv yang paling berkorelasi dengan TARGET:\")\n",
    "print(correlation.head(10))"
   ]
  },
  {
   "cell_type": "code",
   "execution_count": 7,
   "id": "5e76cabc",
   "metadata": {},
   "outputs": [],
   "source": [
    "df.to_csv('df_merged_with_installments.csv', index=False)"
   ]
  }
 ],
 "metadata": {
  "kernelspec": {
   "display_name": "Python 3",
   "language": "python",
   "name": "python3"
  },
  "language_info": {
   "codemirror_mode": {
    "name": "ipython",
    "version": 3
   },
   "file_extension": ".py",
   "mimetype": "text/x-python",
   "name": "python",
   "nbconvert_exporter": "python",
   "pygments_lexer": "ipython3",
   "version": "3.10.17"
  }
 },
 "nbformat": 4,
 "nbformat_minor": 5
}
