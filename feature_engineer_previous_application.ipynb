{
 "cells": [
  {
   "cell_type": "code",
   "execution_count": 1,
   "id": "d3b3accf",
   "metadata": {},
   "outputs": [
    {
     "name": "stdout",
     "output_type": "stream",
     "text": [
      "Ukuran data previous_application: (1670214, 37)\n",
      "   SK_ID_CURR NAME_CONTRACT_STATUS  AMT_APPLICATION  AMT_CREDIT\n",
      "0      271877             Approved          17145.0     17145.0\n",
      "1      108129             Approved         607500.0    679671.0\n",
      "2      122040             Approved         112500.0    136444.5\n",
      "3      176158             Approved         450000.0    470790.0\n",
      "4      202054              Refused         337500.0    404055.0\n"
     ]
    }
   ],
   "source": [
    "import pandas as pd\n",
    "\n",
    "# 1. Load application_train\n",
    "df = pd.read_csv('application_train.csv')\n",
    "\n",
    "# 2. Load previous_application\n",
    "prev = pd.read_csv('previous_application.csv')\n",
    "\n",
    "print(\"Ukuran data previous_application:\", prev.shape)\n",
    "print(prev[['SK_ID_CURR', 'NAME_CONTRACT_STATUS', 'AMT_APPLICATION', 'AMT_CREDIT']].head())\n"
   ]
  },
  {
   "cell_type": "code",
   "execution_count": 2,
   "id": "07f887e2",
   "metadata": {},
   "outputs": [
    {
     "name": "stdout",
     "output_type": "stream",
     "text": [
      "Ukuran data previous_application: (1670214, 37)\n",
      "   SK_ID_CURR NAME_CONTRACT_STATUS  AMT_APPLICATION  AMT_CREDIT\n",
      "0      271877             Approved          17145.0     17145.0\n",
      "1      108129             Approved         607500.0    679671.0\n",
      "2      122040             Approved         112500.0    136444.5\n",
      "3      176158             Approved         450000.0    470790.0\n",
      "4      202054              Refused         337500.0    404055.0\n"
     ]
    }
   ],
   "source": [
    "import pandas as pd\n",
    "\n",
    "# 1. Load application_train\n",
    "df = pd.read_csv('application_train.csv')\n",
    "\n",
    "# 2. Load previous_application\n",
    "prev = pd.read_csv('previous_application.csv')\n",
    "\n",
    "print(\"Ukuran data previous_application:\", prev.shape)\n",
    "print(prev[['SK_ID_CURR', 'NAME_CONTRACT_STATUS', 'AMT_APPLICATION', 'AMT_CREDIT']].head())\n"
   ]
  },
  {
   "cell_type": "code",
   "execution_count": 3,
   "id": "2593a734",
   "metadata": {},
   "outputs": [],
   "source": [
    "# Replace status Refused & Approved dengan angka\n",
    "prev['APPROVED'] = (prev['NAME_CONTRACT_STATUS'] == 'Approved').astype(int)\n",
    "prev['REFUSED'] = (prev['NAME_CONTRACT_STATUS'] == 'Refused').astype(int)\n",
    "\n",
    "# Agregasi\n",
    "prev_agg = prev.groupby('SK_ID_CURR').agg({\n",
    "    'AMT_APPLICATION': ['mean', 'max'],\n",
    "    'AMT_CREDIT': ['mean', 'max'],\n",
    "    'APPROVED': 'sum',\n",
    "    'REFUSED': 'sum'\n",
    "})\n",
    "\n",
    "# Rename kolom multi-index\n",
    "prev_agg.columns = ['PREV_' + '_'.join(col).upper() for col in prev_agg.columns]\n",
    "prev_agg = prev_agg.reset_index()\n"
   ]
  },
  {
   "cell_type": "code",
   "execution_count": 4,
   "id": "5ac13344",
   "metadata": {},
   "outputs": [],
   "source": [
    "df = df.merge(prev_agg, on='SK_ID_CURR', how='left')"
   ]
  },
  {
   "cell_type": "code",
   "execution_count": 5,
   "id": "1abfffd6",
   "metadata": {},
   "outputs": [
    {
     "name": "stdout",
     "output_type": "stream",
     "text": [
      "Fitur dari previous_application.csv yang paling berkorelasi dengan TARGET:\n",
      "TARGET                         1.000000\n",
      "DAYS_BIRTH                     0.078239\n",
      "PREV_REFUSED_SUM               0.064469\n",
      "REGION_RATING_CLIENT_W_CITY    0.060893\n",
      "REGION_RATING_CLIENT           0.058899\n",
      "DAYS_LAST_PHONE_CHANGE         0.055218\n",
      "DAYS_ID_PUBLISH                0.051457\n",
      "REG_CITY_NOT_WORK_CITY         0.050994\n",
      "FLAG_EMP_PHONE                 0.045982\n",
      "REG_CITY_NOT_LIVE_CITY         0.044395\n",
      "Name: TARGET, dtype: float64\n"
     ]
    }
   ],
   "source": [
    "correlation = df.corr(numeric_only=True)['TARGET'].sort_values(ascending=False)\n",
    "print(\"Fitur dari previous_application.csv yang paling berkorelasi dengan TARGET:\")\n",
    "print(correlation.head(10))"
   ]
  },
  {
   "cell_type": "code",
   "execution_count": 6,
   "id": "6a925ce5",
   "metadata": {},
   "outputs": [],
   "source": [
    "df.to_csv('df_merged_with_previous.csv', index=False)"
   ]
  }
 ],
 "metadata": {
  "kernelspec": {
   "display_name": "Python 3",
   "language": "python",
   "name": "python3"
  },
  "language_info": {
   "codemirror_mode": {
    "name": "ipython",
    "version": 3
   },
   "file_extension": ".py",
   "mimetype": "text/x-python",
   "name": "python",
   "nbconvert_exporter": "python",
   "pygments_lexer": "ipython3",
   "version": "3.10.17"
  }
 },
 "nbformat": 4,
 "nbformat_minor": 5
}
