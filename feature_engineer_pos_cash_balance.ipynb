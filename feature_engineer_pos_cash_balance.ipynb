{
 "cells": [
  {
   "cell_type": "code",
   "execution_count": 1,
   "id": "8cf5206b",
   "metadata": {},
   "outputs": [
    {
     "name": "stdout",
     "output_type": "stream",
     "text": [
      "Ukuran data POS_CASH_balance: (10001358, 8)\n",
      "   SK_ID_CURR  SK_ID_PREV  MONTHS_BALANCE  CNT_INSTALMENT  \\\n",
      "0      182943     1803195             -31            48.0   \n",
      "1      367990     1715348             -33            36.0   \n",
      "2      397406     1784872             -32            12.0   \n",
      "3      269225     1903291             -35            48.0   \n",
      "4      334279     2341044             -35            36.0   \n",
      "\n",
      "   CNT_INSTALMENT_FUTURE  SK_DPD  \n",
      "0                   45.0       0  \n",
      "1                   35.0       0  \n",
      "2                    9.0       0  \n",
      "3                   42.0       0  \n",
      "4                   35.0       0  \n"
     ]
    }
   ],
   "source": [
    "import pandas as pd\n",
    "\n",
    "# Load data sebelumnya\n",
    "df = pd.read_csv('df_merged_with_creditcard.csv')\n",
    "\n",
    "# Load pos_cash_balance\n",
    "pos = pd.read_csv('POS_CASH_balance.csv')\n",
    "\n",
    "print(\"Ukuran data POS_CASH_balance:\", pos.shape)\n",
    "print(pos[['SK_ID_CURR', 'SK_ID_PREV', 'MONTHS_BALANCE', 'CNT_INSTALMENT', 'CNT_INSTALMENT_FUTURE', 'SK_DPD']].head())"
   ]
  },
  {
   "cell_type": "code",
   "execution_count": 2,
   "id": "d03c24ea",
   "metadata": {},
   "outputs": [],
   "source": [
    "pos_agg = pos.groupby('SK_ID_CURR').agg({\n",
    "    'MONTHS_BALANCE': ['max', 'mean'],\n",
    "    'CNT_INSTALMENT': ['mean'],\n",
    "    'CNT_INSTALMENT_FUTURE': ['mean'],\n",
    "    'SK_DPD': ['mean', 'max'],\n",
    "    'SK_DPD_DEF': ['mean', 'max']\n",
    "})"
   ]
  },
  {
   "cell_type": "code",
   "execution_count": 3,
   "id": "6c05399f",
   "metadata": {},
   "outputs": [],
   "source": [
    "pos_agg.columns = ['POS_' + '_'.join(col).upper() for col in pos_agg.columns]\n",
    "pos_agg = pos_agg.reset_index()"
   ]
  },
  {
   "cell_type": "code",
   "execution_count": 4,
   "id": "d313135c",
   "metadata": {},
   "outputs": [],
   "source": [
    "df = df.merge(pos_agg, on='SK_ID_CURR', how='left')"
   ]
  },
  {
   "cell_type": "code",
   "execution_count": 5,
   "id": "19c30805",
   "metadata": {},
   "outputs": [
    {
     "name": "stdout",
     "output_type": "stream",
     "text": [
      "Fitur dari POS_CASH_balance.csv yang paling berkorelasi dengan TARGET:\n",
      "TARGET                             1.000000\n",
      "CC_AMT_BALANCE_MEAN                0.087177\n",
      "DAYS_BIRTH                         0.078239\n",
      "CC_AMT_BALANCE_MAX                 0.068798\n",
      "REGION_RATING_CLIENT_W_CITY        0.060893\n",
      "REGION_RATING_CLIENT               0.058899\n",
      "DAYS_LAST_PHONE_CHANGE             0.055218\n",
      "DAYS_ID_PUBLISH                    0.051457\n",
      "REG_CITY_NOT_WORK_CITY             0.050994\n",
      "CC_CNT_DRAWINGS_ATM_CURRENT_SUM    0.049970\n",
      "Name: TARGET, dtype: float64\n"
     ]
    }
   ],
   "source": [
    "correlation = df.corr(numeric_only=True)['TARGET'].sort_values(ascending=False)\n",
    "print(\"Fitur dari POS_CASH_balance.csv yang paling berkorelasi dengan TARGET:\")\n",
    "print(correlation.head(10))"
   ]
  },
  {
   "cell_type": "code",
   "execution_count": 6,
   "id": "72cbaa0c",
   "metadata": {},
   "outputs": [],
   "source": [
    "df.to_csv('df_final_merged_all.csv', index=False)"
   ]
  }
 ],
 "metadata": {
  "kernelspec": {
   "display_name": "Python 3",
   "language": "python",
   "name": "python3"
  },
  "language_info": {
   "codemirror_mode": {
    "name": "ipython",
    "version": 3
   },
   "file_extension": ".py",
   "mimetype": "text/x-python",
   "name": "python",
   "nbconvert_exporter": "python",
   "pygments_lexer": "ipython3",
   "version": "3.10.17"
  }
 },
 "nbformat": 4,
 "nbformat_minor": 5
}
