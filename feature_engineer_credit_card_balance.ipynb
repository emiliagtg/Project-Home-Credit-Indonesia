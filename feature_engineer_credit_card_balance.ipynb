{
 "cells": [
  {
   "cell_type": "code",
   "execution_count": 1,
   "id": "b337afb5",
   "metadata": {},
   "outputs": [
    {
     "name": "stdout",
     "output_type": "stream",
     "text": [
      "Ukuran data credit_card_balance: (3840312, 23)\n",
      "   SK_ID_CURR  SK_ID_PREV  MONTHS_BALANCE  AMT_BALANCE  \\\n",
      "0      378907     2562384              -6       56.970   \n",
      "1      363914     2582071              -1    63975.555   \n",
      "2      371185     1740877              -7    31815.225   \n",
      "3      337855     1389973              -4   236572.110   \n",
      "4      126868     1891521              -1   453919.455   \n",
      "\n",
      "   AMT_PAYMENT_TOTAL_CURRENT  \n",
      "0                     1800.0  \n",
      "1                     2250.0  \n",
      "2                     2250.0  \n",
      "3                    11925.0  \n",
      "4                    27000.0  \n"
     ]
    }
   ],
   "source": [
    "import pandas as pd\n",
    "\n",
    "# Load df gabungan terakhir\n",
    "df = pd.read_csv('df_merged_with_installments.csv')\n",
    "\n",
    "# Load credit_card_balance\n",
    "cc = pd.read_csv('credit_card_balance.csv')\n",
    "\n",
    "print(\"Ukuran data credit_card_balance:\", cc.shape)\n",
    "print(cc[['SK_ID_CURR', 'SK_ID_PREV', 'MONTHS_BALANCE', 'AMT_BALANCE', 'AMT_PAYMENT_TOTAL_CURRENT']].head())"
   ]
  },
  {
   "cell_type": "code",
   "execution_count": 2,
   "id": "33c3cad8",
   "metadata": {},
   "outputs": [],
   "source": [
    "cc_agg = cc.groupby('SK_ID_CURR').agg({\n",
    "    'AMT_BALANCE': ['mean', 'max'],\n",
    "    'AMT_CREDIT_LIMIT_ACTUAL': ['mean'],\n",
    "    'AMT_DRAWINGS_ATM_CURRENT': ['sum'],\n",
    "    'AMT_PAYMENT_CURRENT': ['sum'],\n",
    "    'AMT_PAYMENT_TOTAL_CURRENT': ['sum'],\n",
    "    'CNT_DRAWINGS_ATM_CURRENT': ['sum'],\n",
    "    'SK_DPD': ['mean', 'max'],\n",
    "    'SK_DPD_DEF': ['mean', 'max']\n",
    "})"
   ]
  },
  {
   "cell_type": "code",
   "execution_count": 3,
   "id": "6cf9942c",
   "metadata": {},
   "outputs": [],
   "source": [
    "cc_agg.columns = ['CC_' + '_'.join(col).upper() for col in cc_agg.columns]\n",
    "cc_agg = cc_agg.reset_index()"
   ]
  },
  {
   "cell_type": "code",
   "execution_count": 4,
   "id": "92456bb8",
   "metadata": {},
   "outputs": [],
   "source": [
    "df = df.merge(cc_agg, on='SK_ID_CURR', how='left')"
   ]
  },
  {
   "cell_type": "code",
   "execution_count": 5,
   "id": "77a9843e",
   "metadata": {},
   "outputs": [
    {
     "name": "stdout",
     "output_type": "stream",
     "text": [
      "Fitur dari credit_card_balance.csv yang paling berkorelasi dengan TARGET:\n",
      "TARGET                             1.000000\n",
      "CC_AMT_BALANCE_MEAN                0.087177\n",
      "DAYS_BIRTH                         0.078239\n",
      "CC_AMT_BALANCE_MAX                 0.068798\n",
      "REGION_RATING_CLIENT_W_CITY        0.060893\n",
      "REGION_RATING_CLIENT               0.058899\n",
      "DAYS_LAST_PHONE_CHANGE             0.055218\n",
      "DAYS_ID_PUBLISH                    0.051457\n",
      "REG_CITY_NOT_WORK_CITY             0.050994\n",
      "CC_CNT_DRAWINGS_ATM_CURRENT_SUM    0.049970\n",
      "Name: TARGET, dtype: float64\n"
     ]
    }
   ],
   "source": [
    "correlation = df.corr(numeric_only=True)['TARGET'].sort_values(ascending=False)\n",
    "print(\"Fitur dari credit_card_balance.csv yang paling berkorelasi dengan TARGET:\")\n",
    "print(correlation.head(10))"
   ]
  },
  {
   "cell_type": "code",
   "execution_count": 6,
   "id": "f2c9b712",
   "metadata": {},
   "outputs": [],
   "source": [
    "df.to_csv('df_merged_with_creditcard.csv', index=False)"
   ]
  }
 ],
 "metadata": {
  "kernelspec": {
   "display_name": "Python 3",
   "language": "python",
   "name": "python3"
  },
  "language_info": {
   "codemirror_mode": {
    "name": "ipython",
    "version": 3
   },
   "file_extension": ".py",
   "mimetype": "text/x-python",
   "name": "python",
   "nbconvert_exporter": "python",
   "pygments_lexer": "ipython3",
   "version": "3.10.17"
  }
 },
 "nbformat": 4,
 "nbformat_minor": 5
}
